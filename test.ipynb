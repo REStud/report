{
 "cells": [
  {
   "cell_type": "markdown",
   "metadata": {},
   "source": [
    "# TODO\n",
    "1. replicate all the other report graphs\n",
    "    - graphs to create: \n",
    "        - revision.png\n",
    "        - time_at_editor.png\n",
    "        - main_issues.png\n",
    "        - download_histograms.png\n",
    "        - downloads.png\n",
    "2. create a dashboard containing all the graphs"
   ]
  },
  {
   "cell_type": "code",
   "execution_count": 9,
   "metadata": {},
   "outputs": [],
   "source": [
    "import pandas as pd\n",
    "import plotly.express as px\n",
    "import numpy as np"
   ]
  },
  {
   "cell_type": "markdown",
   "metadata": {},
   "source": [
    "## Revision.png & time_at_editor.png"
   ]
  },
  {
   "cell_type": "code",
   "execution_count": 24,
   "metadata": {},
   "outputs": [
    {
     "name": "stderr",
     "output_type": "stream",
     "text": [
      "/tmp/ipykernel_23043/973408826.py:1: UnicodeWarning: \n",
      "One or more strings in the dta file could not be decoded using utf-8, and\n",
      "so the fallback encoding of latin-1 is being used.  This can happen when a file\n",
      "has been incorrectly encoded by Stata or some other software. You should verify\n",
      "the string values returned are correct.\n",
      "  analysis_df = pd.read_stata('data/git-events.dta')\n"
     ]
    }
   ],
   "source": [
    "analysis_df = pd.read_stata('data/git-events.dta')"
   ]
  },
  {
   "cell_type": "code",
   "execution_count": 41,
   "metadata": {},
   "outputs": [],
   "source": [
    "analysis_df = analysis_df.sort_values(by=['MS', 'numeric_date'])\n",
    "analysis_df['spell'] = (analysis_df['numeric_date']-analysis_df['numeric_date'].shift(1))/3600/24\n",
    "analysis_df['matching'] = (analysis_df['MS'] == analysis_df['MS'].shift(1))\n",
    "make_missing = analysis_df.index[analysis_df['matching']==False]\n",
    "analysis_df.loc[make_missing, 'spell'] = np.NaN\n",
    "analysis_df['at_editor'] = (analysis_df['branch_imputed'].shift(1) == analysis_df['branch_imputed']) | (analysis_df['branch_imputed'].shift(1) == 'author')\n",
    "analysis_df['change'] = -(analysis_df['at_editor'].shift(1)==analysis_df['at_editor'])\n",
    "analysis_df['spell_id'] = analysis_df.groupby('MS')['change'].transform(pd.Series.cumsum)"
   ]
  },
  {
   "cell_type": "code",
   "execution_count": 79,
   "metadata": {},
   "outputs": [
    {
     "name": "stderr",
     "output_type": "stream",
     "text": [
      "/tmp/ipykernel_23043/1264683990.py:1: FutureWarning: The default value of numeric_only in DataFrameGroupBy.sum is deprecated. In a future version, numeric_only will default to False. Either specify numeric_only or select only columns which should be valid for the function.\n",
      "  collapsed = analysis_df.groupby(by=['MS', 'accepted_at', 'spell_id', 'at_editor']).sum().reset_index()\n"
     ]
    }
   ],
   "source": [
    "collapsed = analysis_df.groupby(by=['MS', 'accepted_at', 'spell_id', 'at_editor']).sum().reset_index()\n",
    "collapsed = collapsed[['MS', 'accepted_at', 'spell_id', 'at_editor', 'spell']]\n",
    "collapsed = collapsed[collapsed['spell_id'] != 1]\n",
    "collapsed['spell_id'] = np.floor((collapsed['spell_id']-1)/2)\n",
    "collapsed['spell_id'] = collapsed['spell_id'].astype(int)\n",
    "collapsed = collapsed.pivot(index=['MS', 'spell_id'], columns='at_editor', values=['spell', 'accepted_at']).reset_index()\n",
    "collapsed.columns = ['MS', 'revision','time_at_author', 'time_at_editor', 'accepted_at0', 'accepted_at']\n",
    "collapsed.drop('accepted_at0',axis=1,inplace=True)\n",
    "collapsed['max_revision'] = collapsed.groupby('MS')['revision'].transform(pd.Series.max)"
   ]
  },
  {
   "cell_type": "code",
   "execution_count": 43,
   "metadata": {},
   "outputs": [],
   "source": [
    "rowcount = analysis_df.shape[0]\n",
    "labels = []\n",
    "values = []\n",
    "for col in analysis_df:\n",
    "    if col == 'MS':\n",
    "        continue\n",
    "    labels.append(col)\n",
    "    values.append(analysis_df[col].sum()/rowcount)"
   ]
  },
  {
   "cell_type": "code",
   "execution_count": 1,
   "metadata": {},
   "outputs": [
    {
     "ename": "NameError",
     "evalue": "name 'plt' is not defined",
     "output_type": "error",
     "traceback": [
      "\u001b[0;31m---------------------------------------------------------------------------\u001b[0m",
      "\u001b[0;31mNameError\u001b[0m                                 Traceback (most recent call last)",
      "\u001b[0;32m/tmp/ipykernel_20396/3795553341.py\u001b[0m in \u001b[0;36m<module>\u001b[0;34m\u001b[0m\n\u001b[0;32m----> 1\u001b[0;31m \u001b[0mplt\u001b[0m\u001b[0;34m.\u001b[0m\u001b[0mbar\u001b[0m\u001b[0;34m(\u001b[0m\u001b[0mx\u001b[0m\u001b[0;34m=\u001b[0m\u001b[0mlabels\u001b[0m\u001b[0;34m,\u001b[0m\u001b[0mheight\u001b[0m\u001b[0;34m=\u001b[0m\u001b[0mvalues\u001b[0m\u001b[0;34m)\u001b[0m\u001b[0;34m\u001b[0m\u001b[0;34m\u001b[0m\u001b[0m\n\u001b[0m",
      "\u001b[0;31mNameError\u001b[0m: name 'plt' is not defined"
     ]
    }
   ],
   "source": [
    "plt.bar(x=labels,height=values)"
   ]
  }
 ],
 "metadata": {
  "kernelspec": {
   "display_name": "Python 3",
   "language": "python",
   "name": "python3"
  },
  "language_info": {
   "codemirror_mode": {
    "name": "ipython",
    "version": 3
   },
   "file_extension": ".py",
   "mimetype": "text/x-python",
   "name": "python",
   "nbconvert_exporter": "python",
   "pygments_lexer": "ipython3",
   "version": "3.10.12"
  },
  "orig_nbformat": 4
 },
 "nbformat": 4,
 "nbformat_minor": 2
}
