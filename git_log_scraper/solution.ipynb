{
 "cells": [
  {
   "cell_type": "code",
   "execution_count": 1,
   "id": "750b4f03-fd4b-45ac-b971-556ad60d70a9",
   "metadata": {},
   "outputs": [],
   "source": [
    "import os\n",
    "import csv"
   ]
  },
  {
   "cell_type": "code",
   "execution_count": 2,
   "id": "211c74a0-28dc-4810-94dc-9fdb5217dec6",
   "metadata": {},
   "outputs": [],
   "source": [
    "#Dummy Blank CSV for adding newline in csv module\n",
    "dummy = \"../dummy.csv\""
   ]
  },
  {
   "cell_type": "code",
   "execution_count": 3,
   "id": "b9db9d83-8c0e-4983-9de8-02d5cef47afb",
   "metadata": {},
   "outputs": [
    {
     "name": "stdout",
     "output_type": "stream",
     "text": [
      "Finished logging 27333\n",
      "Remaining Repos: 1\n",
      "#####################################\n",
      "Finished logging 30815\n",
      "Remaining Repos: 0\n",
      "#####################################\n"
     ]
    }
   ],
   "source": [
    "#Loop through your set of repos \n",
    "repos = [\"27333\", \"30815\"]\n",
    "for repo in repos:\n",
    "    os.chdir(repo)\n",
    "    # git pull all the remote origin updates from all branches\n",
    "    cmd1 = \"git pull --all\".format(repo)\n",
    "    os.system(cmd1)\n",
    "    #git log all (for initial log) & then update it with --after=<date> (from a specified date - you can automate/schedule it)\n",
    "    cmd2 = \"git log --all --after=2020-06-10 --pretty=format:'{},%h,%an,%ad,%s' > {}.csv\".format(repo,repo)\n",
    "    os.system(cmd2)\n",
    "    src = \"{}.csv\".format(repo)\n",
    "    #To append here as CSV I have used csv module\n",
    "    tf = open('Gitlog-output.csv', 'a+', newline=\"\")\n",
    "    if os.path.getsize('{}.csv'.format(repo)) != 0:\n",
    "        #Writing each git log data to the above output file and conditional newline if there isn't a commit in any branch.\n",
    "        tf.write(open(src).read())\n",
    "        tf.write(open(dummy).read())\n",
    "    tf.close()\n",
    "\n",
    "    print(\"Finished logging {}\".format(repo))\n",
    "    # To track the list of remaining repos from your list\n",
    "    print(\"Remaining Repos: {}\".format(len(repos) - repos.index(repo) -1 ))\n",
    "    print(\"#####################################\")\n",
    "    os.chdir(\"..\")"
   ]
  },
  {
   "cell_type": "code",
   "execution_count": 3,
   "id": "ea3d71c3-687c-4fbd-927f-f85a3cc227ae",
   "metadata": {},
   "outputs": [
    {
     "data": {
      "text/plain": [
       "['.ipynb_checkpoints',\n",
       " '27333',\n",
       " '30815',\n",
       " 'dummy.csv',\n",
       " 'solution.ipynb',\n",
       " 'solution.py']"
      ]
     },
     "execution_count": 3,
     "metadata": {},
     "output_type": "execute_result"
    }
   ],
   "source": [
    "os.listdir()"
   ]
  },
  {
   "cell_type": "code",
   "execution_count": 7,
   "id": "39116a8f-211f-49bc-8202-c717279a4a47",
   "metadata": {},
   "outputs": [
    {
     "data": {
      "text/plain": [
       "0"
      ]
     },
     "execution_count": 7,
     "metadata": {},
     "output_type": "execute_result"
    }
   ],
   "source": [
    "os.system(\"cd ..\")"
   ]
  },
  {
   "cell_type": "code",
   "execution_count": 4,
   "id": "69f0a02f-1628-4a6c-aa7c-ef099bb9c873",
   "metadata": {},
   "outputs": [
    {
     "data": {
      "text/plain": [
       "0"
      ]
     },
     "execution_count": 4,
     "metadata": {},
     "output_type": "execute_result"
    }
   ],
   "source": [
    "repos.index(\"27333\")"
   ]
  }
 ],
 "metadata": {
  "kernelspec": {
   "display_name": "Python 3 (ipykernel)",
   "language": "python",
   "name": "python3"
  },
  "language_info": {
   "codemirror_mode": {
    "name": "ipython",
    "version": 3
   },
   "file_extension": ".py",
   "mimetype": "text/x-python",
   "name": "python",
   "nbconvert_exporter": "python",
   "pygments_lexer": "ipython3",
   "version": "3.9.7"
  }
 },
 "nbformat": 4,
 "nbformat_minor": 5
}
